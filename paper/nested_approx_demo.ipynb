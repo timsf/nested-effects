{
 "cells": [
  {
   "cell_type": "code",
   "execution_count": null,
   "source": [
    "# if need be, manually add the local project root to PYTHONPATH and move working directories\n",
    "\n",
    "import os\n",
    "import sys\n",
    "\n",
    "project = '/' # change to local project root\n",
    "sys.path.append(project)\n",
    "os.chdir(project)"
   ],
   "outputs": [],
   "metadata": {}
  },
  {
   "cell_type": "code",
   "execution_count": null,
   "source": [
    "# dependencies\n",
    "\n",
    "import re\n",
    "import datetime\n",
    "\n",
    "import numpy as np\n",
    "import pandas as pd\n",
    "import pystan as stan\n",
    "\n",
    "import nfx.lm.gibbs"
   ],
   "outputs": [],
   "metadata": {}
  },
  {
   "cell_type": "code",
   "execution_count": null,
   "source": [
    "# helper functions\n",
    "\n",
    "def package_coef_samples(coef_samples, node_names, covariate_names, algo_name, chain_ix, epoch_ix):\n",
    "\n",
    "    dfs = []\n",
    "    for i, (coef_samples_, node_names_) in enumerate(zip(coef_samples, node_names)):\n",
    "        for j, node_names__ in enumerate(node_names_):\n",
    "            df_ = pd.DataFrame(coef_samples_[:, j].T, index=covariate_names)\n",
    "            df_.index = df_.index.rename('covariate')\n",
    "            df_.columns = df_.columns.rename('iter')\n",
    "            df_['algo'] = algo_name\n",
    "            df_['chain'] = chain_ix\n",
    "            df_['epoch'] = epoch_ix\n",
    "            df_['level'] = i\n",
    "            df_['node'] = node_names__.zfill(i + 1)\n",
    "            dfs.append(df_)\n",
    "    df = pd.concat(dfs).reset_index().set_index(['algo', 'chain', 'epoch', 'level', 'node', 'covariate'])\n",
    "    return df\n",
    "\n",
    "def est_post_moms(samples):\n",
    "\n",
    "    df = pd.DataFrame(index=samples.index)\n",
    "    df['mean'] = samples.mean(1)\n",
    "    df['log_sd'] = np.log(samples.std(1))\n",
    "    df.columns = df.columns.rename('summary')\n",
    "    return df.stack().rename('value')\n",
    "\n",
    "def package_sla_samples(samples, node_names, covariate_names, chain_ix, epoch_ix):\n",
    "\n",
    "    coef_samples, _, _ = zip(*samples)\n",
    "    coef_samples = [np.array(coef_samples_) for coef_samples_ in zip(*coef_samples)][::-1]\n",
    "    return package_coef_samples(coef_samples, node_names, covariate_names, 'SLA', chain_ix, epoch_ix)\n",
    "\n",
    "def sample_sla_table(sla_inputs, stan_model, advi_inputs, n_chains, n_epochs, covariate_names, node_names, tepoch, titer, failed_seeds):\n",
    "\n",
    "    return pd.concat([sample_sla_sequence(sla_inputs, stan_model, advi_inputs, chain_ix, n_epochs, covariate_names, node_names, tepoch, titer) for chain_ix in range(n_chains + len(failed_seeds)) if chain_ix not in failed_seeds])\n",
    "\n",
    "def sample_sla_sequence(sla_inputs, stan_model, advi_inputs, chain_ix, n_epochs, covariate_names, node_names, tepoch, titer):\n",
    "\n",
    "    rng = np.random.default_rng(chain_ix)\n",
    "    advi_samples = stan_model.vb(data=advi_inputs, iter=1, init=0, seed=chain_ix)\n",
    "    advi_arrays = format_advi_output(advi_samples['sampler_param_names'], advi_samples['sampler_params'])\n",
    "    init = ([np.mean(advi_arrays[s], 0) for s in ('coefs', 'loc_3', 'loc_2', 'loc_1', 'loc_0')], \n",
    "            [np.linalg.inv(np.mean(advi_arrays[s], 0)) for s in ('cov_4', 'cov_3', 'cov_2', 'cov_1')],\n",
    "            np.mean(1 / advi_arrays['var_resid'], 0))\n",
    "    n_samples = int(n_epochs * tepoch / titer) + 1\n",
    "    sampler = nfx.lm.gibbs.sample_posterior(*sla_inputs, init=init, ome=rng)\n",
    "    samples = [next(sampler) for _ in  range(n_samples)]\n",
    "    coef_samples = package_sla_samples(samples, node_names, covariate_names, chain_ix, 0)\n",
    "    return split_epochs(coef_samples, n_epochs, tepoch, titer)\n",
    "\n",
    "def split_epochs(samples, n_epochs, tepoch, sla_titer):\n",
    "\n",
    "    n_samples = np.int64(np.arange(1, n_epochs + 1) * (tepoch / sla_titer))\n",
    "    summ_by_epoch = [est_post_moms(samples.iloc[:, (n // 2):(n)]).reset_index() for n in n_samples]\n",
    "    for i, summ_ in enumerate(summ_by_epoch):\n",
    "        summ_['epoch'] = i\n",
    "    summ_by_epoch = pd.concat(summ_by_epoch)\n",
    "    return summ_by_epoch.set_index(summ_by_epoch.columns.drop('value').tolist()).value\n",
    "\n",
    "def package_advi_samples(samples, node_names, covariate_names, chain_ix, epoch_ix):\n",
    "\n",
    "    coef_samples = [samples[par] for par in ('loc_0', 'loc_1', 'loc_2', 'loc_3', 'coefs')]\n",
    "    coef_samples[0] = coef_samples[0][:, np.newaxis]\n",
    "    return package_coef_samples(coef_samples, node_names, covariate_names, 'Stan/ADVI', chain_ix, epoch_ix)\n",
    "\n",
    "def sample_advi_table(model, data, n_iter, n_chains, n_epochs, covariate_names, node_names):\n",
    "\n",
    "    i = 0\n",
    "    summ_coefs = []\n",
    "    failed_seeds = []\n",
    "    while len(summ_coefs) < n_chains:\n",
    "        try:\n",
    "            summ_coefs.append(sample_advi_sequence(model, data, n_iter, i, n_epochs, covariate_names, node_names))\n",
    "        except RuntimeError:\n",
    "            failed_seeds.append(i)\n",
    "        i += 1\n",
    "    return pd.concat(summ_coefs), failed_seeds\n",
    "\n",
    "def sample_advi_sequence(model, data, n_iter, chain_ix, n_epochs, covariate_names, node_names):\n",
    "\n",
    "    summ_coefs = [sample_advi_cell(model, data, n_iter, chain_ix, i, covariate_names, node_names) for i in range(n_epochs)]\n",
    "    return pd.concat(summ_coefs)\n",
    "\n",
    "def sample_advi_cell(model, data, n_iter, chain_ix, epoch_ix, covariate_names, node_names):\n",
    "\n",
    "    rng = np.random.default_rng(chain_ix)\n",
    "    samples = model.vb(data=data, iter=n_iter*(epoch_ix+1), init=0, seed=chain_ix, tol_rel_obj=1e-9)\n",
    "    arrays = format_advi_output(samples['sampler_param_names'], samples['sampler_params'])\n",
    "    coef_samples = package_advi_samples(arrays, node_names, covariate_names, chain_ix, epoch_ix)\n",
    "    coef_summ = est_post_moms(coef_samples)\n",
    "    return coef_summ\n",
    "\n",
    "def format_advi_output(block_names, block_samples):\n",
    "\n",
    "    uq_names = list(set([s.split('[')[0] for s in block_names]))\n",
    "    indices = {un: np.int32([re.findall('\\[(.+)\\]', n)[0].split(',') if '[' in n else np.array([]) for n in block_names if un == n.split('[')[0]]) - 1 for un in uq_names}\n",
    "    samples = {un: [s for n, s in zip(block_names, block_samples) if un == n.split('[')[0]] for un in uq_names}\n",
    "    arrays = {un: np.empty(np.append(indices[un].max(0) + 1, 1000)) for un in uq_names}\n",
    "    for un in uq_names:\n",
    "        for ix, s in zip(indices[un], samples[un]):\n",
    "            arrays[un][tuple(ix)] = s\n",
    "        arrays[un] = np.transpose(arrays[un], [-1, *range(len(arrays[un].shape) - 1)])\n",
    "    return arrays"
   ],
   "outputs": [],
   "metadata": {}
  },
  {
   "cell_type": "code",
   "execution_count": null,
   "source": [
    "# config\n",
    "\n",
    "covariate_names = ['housing']\n",
    "n_chains = 1\n",
    "n_epochs = 10\n",
    "n_iter = 1024"
   ],
   "outputs": [],
   "metadata": {}
  },
  {
   "cell_type": "code",
   "execution_count": null,
   "source": [
    "# load data\n",
    "\n",
    "macro = pd.read_csv('paper/data/sareb_covariates.csv').set_index('time')\n",
    "prices = pd.read_csv('paper/data/sareb_prices_synthetic.csv').set_index('zip')"
   ],
   "outputs": [],
   "metadata": {}
  },
  {
   "cell_type": "code",
   "execution_count": null,
   "source": [
    "# format response\n",
    "\n",
    "response = prices.diff(axis=1).dropna(axis=1)"
   ],
   "outputs": [],
   "metadata": {}
  },
  {
   "cell_type": "code",
   "execution_count": null,
   "source": [
    "# format covariates\n",
    "\n",
    "covariates = macro.loc[:, covariate_names]\n",
    "covariates['_constant'] = 1\n",
    "covariates['_trend'] = np.arange(covariates.shape[0])\n",
    "covariates = covariates.loc[:, ['_trend', 'housing']].diff().dropna().loc[response.columns]"
   ],
   "outputs": [],
   "metadata": {}
  },
  {
   "cell_type": "code",
   "execution_count": null,
   "source": [
    "# construct tree\n",
    "\n",
    "indices = response.index.to_frame()\n",
    "indices['lvl_1'] = indices.zip.str.slice(0, 2)\n",
    "indices['lvl_2'] = indices.zip.str.slice(0, 3)\n",
    "indices['lvl_3'] = indices.zip.str.slice(0, 4)\n",
    "indices['lvl_4'] = indices.zip.str.slice(0, 5)\n",
    "indices = indices.drop('zip', 1)\n",
    "codes = indices.apply(lambda x: x.astype('category').cat.codes).astype('int64')\n",
    "n_nodes = codes.max(0) + 1\n",
    "parent_node_3 = codes[['lvl_4', 'lvl_3']].drop_duplicates().lvl_3\n",
    "parent_node_2 = codes[['lvl_3', 'lvl_2']].drop_duplicates().lvl_2\n",
    "parent_node_1 = codes[['lvl_2', 'lvl_1']].drop_duplicates().lvl_1\n",
    "tree = [parent_node_3, parent_node_2, parent_node_1]\n",
    "node_names = [['0'], indices.lvl_1.unique(), indices.lvl_2.unique(), indices.lvl_3.unique(), indices.lvl_4.unique()]"
   ],
   "outputs": [],
   "metadata": {}
  },
  {
   "cell_type": "code",
   "execution_count": null,
   "source": [
    "# assemble advi inputs\n",
    "\n",
    "advi_inputs = {\n",
    "    'n_periods': response.shape[1],\n",
    "    'n_leaves': response.shape[0],\n",
    "    'n_covariates': covariates.shape[1],\n",
    "    'n_nodes_3': parent_node_3.max() + 1,\n",
    "    'n_nodes_2': parent_node_2.max() + 1,\n",
    "    'n_nodes_1': parent_node_1.max() + 1,\n",
    "    'parent_node_3': parent_node_3.values + 1,\n",
    "    'parent_node_2': parent_node_2.values + 1,\n",
    "    'parent_node_1': parent_node_1.values + 1,\n",
    "    'covariates': covariates.values.T,\n",
    "    'response': response.values,\n",
    "    'prior_df': covariates.shape[1],\n",
    "    'prior_shape': 1/2,\n",
    "    'prior_rate': 1/2\n",
    "}"
   ],
   "outputs": [],
   "metadata": {}
  },
  {
   "cell_type": "code",
   "execution_count": null,
   "source": [
    "# measure advi iteration time\n",
    "\n",
    "stan_model = stan.StanModel('paper/stan/nfx_panel_normal.stan')\n",
    "t0 = datetime.datetime.now()\n",
    "stan_model.vb(data=advi_inputs, seed=0, iter=n_iter * n_epochs, tol_rel_obj=1e-9)\n",
    "t1 = datetime.datetime.now()\n",
    "tepoch = (t1 - t0).total_seconds() / n_epochs"
   ],
   "outputs": [],
   "metadata": {}
  },
  {
   "cell_type": "code",
   "execution_count": null,
   "source": [
    "# sample advi summaries\n",
    "\n",
    "advi_summ, failed_seeds = sample_advi_table(stan_model, advi_inputs, n_iter, n_chains, n_epochs, ['_trend'] + covariate_names, node_names)"
   ],
   "outputs": [],
   "metadata": {
    "tags": [
     "outputPrepend"
    ]
   }
  },
  {
   "cell_type": "code",
   "execution_count": null,
   "source": [
    "# assemble sla inputs\n",
    "\n",
    "sla_inputs = (response.values, covariates.values, tree)"
   ],
   "outputs": [],
   "metadata": {}
  },
  {
   "cell_type": "code",
   "execution_count": null,
   "source": [
    "# measure sla iteration time\n",
    "\n",
    "sampler = nfx.lm.gibbs.sample_posterior(*sla_inputs)\n",
    "next(sampler)\n",
    "t0 = datetime.datetime.now()\n",
    "all(next(sampler) for _ in  range(100))\n",
    "t1 = datetime.datetime.now()\n",
    "sla_titer = (t1 - t0).total_seconds() / 100"
   ],
   "outputs": [],
   "metadata": {}
  },
  {
   "cell_type": "code",
   "execution_count": null,
   "source": [
    "# sample sla summaries\n",
    "\n",
    "sla_summ = sample_sla_table(sla_inputs, stan_model, advi_inputs, n_chains, n_epochs, ['_trend'] + covariate_names, node_names, tepoch, sla_titer, failed_seeds)"
   ],
   "outputs": [],
   "metadata": {}
  },
  {
   "cell_type": "code",
   "execution_count": null,
   "source": [
    "# marginal posterior summaries for advi\n",
    "\n",
    "advi_summ"
   ],
   "outputs": [],
   "metadata": {}
  },
  {
   "cell_type": "code",
   "execution_count": null,
   "source": [
    "# marginal posterior summaries for sla\n",
    "\n",
    "sla_summ"
   ],
   "outputs": [],
   "metadata": {}
  }
 ],
 "metadata": {
  "kernelspec": {
   "name": "python385jvsc74a57bd00414ad82ab456811b10c2eaad0962924c5698674072e97130a475dec6a2d3b36",
   "display_name": "Python 3.8.5 64-bit ('nfx_remote-j07VlOPI': venv)"
  },
  "language_info": {
   "codemirror_mode": {
    "name": "ipython",
    "version": 3
   },
   "file_extension": ".py",
   "mimetype": "text/x-python",
   "name": "python",
   "nbconvert_exporter": "python",
   "pygments_lexer": "ipython3",
   "version": "3.8.5"
  },
  "metadata": {
   "interpreter": {
    "hash": "0414ad82ab456811b10c2eaad0962924c5698674072e97130a475dec6a2d3b36"
   }
  }
 },
 "nbformat": 4,
 "nbformat_minor": 2
}