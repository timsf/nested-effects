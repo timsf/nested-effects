{
 "cells": [
  {
   "cell_type": "code",
   "execution_count": 1,
   "metadata": {},
   "outputs": [],
   "source": [
    "# dependencies\n",
    "\n",
    "import numpy as np\n",
    "import pandas as pd\n",
    "import matplotlib.pyplot as plt\n",
    "import seaborn as sns\n",
    "\n",
    "import nfx.lm.gibbs\n",
    "import nfx.mlm.custom\n",
    "import nfx.misc.plot"
   ]
  },
  {
   "cell_type": "code",
   "execution_count": 2,
   "metadata": {},
   "outputs": [],
   "source": [
    "# spaghetti\n",
    "\n",
    "def sample_chain(response, covariates, graph, pr_free, seeds, n_samples, n_warmup, rng, init=None):\n",
    "\n",
    "    weights = np.where(seeds < pr_free, 1, np.inf)\n",
    "    sampler = nfx.mlm.custom.sample_posterior(response.values, covariates.values, graph, prior_n_eta=weights, init=init, ome=rng)\n",
    "    samples = [next(sampler)[:-1] for _ in range(n_warmup + n_samples)][n_warmup:]\n",
    "    return summarize_samples(response.values, covariates.values, samples, pr_free, weights)\n",
    "\n",
    "def summarize_samples(y, x, samples, pr_free, weights):\n",
    "\n",
    "    loglik_samples = np.array([np.sum(\n",
    "        np.where(np.isinf(weights), (np.log(lam_) - np.log(2 * np.pi) - lam_ * np.square(y - bet_[0] @ x.T)) / 2, np.log(lam_) - np.log(np.pi) - np.log(1 + lam_ * np.square(y - bet_[0] @ x.T))))\n",
    "        for bet_, _, lam_ in samples])\n",
    "    df = pd.DataFrame(loglik_samples[np.newaxis], index=['log_likelihood'])\n",
    "    df.index = df.index.rename('summary')\n",
    "    df.columns = df.columns.rename('iter')\n",
    "    df['pr_free'] = pr_free\n",
    "    df = df.reset_index().set_index(['pr_free', 'summary'])\n",
    "    return df\n",
    "\n",
    "def package_samples(samples, node_names, covariate_names):\n",
    "\n",
    "    loc_samples, scale_samples, resid_samples = zip(*samples)\n",
    "    loc_samples = [np.array(loc_samples_) for loc_samples_ in zip(*loc_samples)][::-1]\n",
    "    scale_samples = np.trace(scale_samples, axis1=2, axis2=3).T[::-1]\n",
    "    resid_samples = np.array(resid_samples)[np.newaxis]\n",
    "    return package_loc_samples(loc_samples, node_names, covariate_names), package_scale_samples(scale_samples), package_resid_samples(resid_samples, ['x'])\n",
    "\n",
    "def package_loc_samples(loc_samples, node_names, covariate_names):\n",
    "\n",
    "    dfs = []\n",
    "    for i, (loc_samples_, node_names_) in enumerate(zip(loc_samples, node_names)):\n",
    "        for j, node_names__ in enumerate(node_names_):\n",
    "            df_ = pd.DataFrame(loc_samples_[:, j].T, index=covariate_names)\n",
    "            df_.index = df_.index.rename('covariate')\n",
    "            df_.columns = df_.columns.rename('iter')\n",
    "            df_['level'] = i\n",
    "            df_['node'] = node_names__.zfill(i + 1)\n",
    "            dfs.append(df_)\n",
    "    df = pd.concat(dfs).reset_index().set_index(['level', 'node', 'covariate'])\n",
    "    return df\n",
    "\n",
    "def package_scale_samples(scale_samples):\n",
    "\n",
    "    df = pd.DataFrame(scale_samples, index=np.arange(len(scale_samples)))\n",
    "    df.index = df.index.rename('level')\n",
    "    df.columns = df.columns.rename('iter')\n",
    "    df = df.reset_index().set_index(['level'])\n",
    "    return df\n",
    "\n",
    "def package_resid_samples(resid_samples, node_names):\n",
    "\n",
    "    df = pd.DataFrame(np.mean(resid_samples, 0)[np.newaxis], index=['mean'])\n",
    "    df.index = df.index.rename('node')\n",
    "    df.columns = df.columns.rename('iter')\n",
    "    df = df.reset_index().set_index(['node'])\n",
    "    return df\n",
    "        \n",
    "def est_acf(samples, n_lags):\n",
    "\n",
    "    acf = samples.apply(lambda x: nfx.misc.plot.est_acf(x.values, n_lags), 1, False, 'expand')\n",
    "    acf.columns = acf.columns.rename('lag')\n",
    "    return acf\n",
    "\n",
    "def est_ess(acfs, titer):\n",
    "    \n",
    "    df = pd.DataFrame(index=acfs.index)\n",
    "    df['iat[iter]'] = acfs.apply(lambda x: nfx.misc.plot.est_int_autocor(x.values), 1, False, 'expand').rename('iat')\n",
    "    df['iat[sec]'] = df['iat[iter]'] * titer\n",
    "    df['rate[iter]'] = 1 / (2 * df['iat[iter]'])\n",
    "    df['rate[sec]'] = df['rate[iter]'] / titer\n",
    "    return df"
   ]
  },
  {
   "cell_type": "code",
   "execution_count": 3,
   "metadata": {},
   "outputs": [],
   "source": [
    "# config\n",
    "\n",
    "factor_names = ['housing']\n",
    "rng = np.random.default_rng(0)\n",
    "n_samples = 10000\n",
    "n_warmup = 100"
   ]
  },
  {
   "cell_type": "code",
   "execution_count": 4,
   "metadata": {},
   "outputs": [],
   "source": [
    "# load data\n",
    "\n",
    "macro = pd.read_csv('demos/data/sareb_covariates.csv').set_index('time')\n",
    "prices = pd.read_csv('demos/data/sareb_prices_synthetic.csv').set_index('zip')"
   ]
  },
  {
   "cell_type": "code",
   "execution_count": 5,
   "metadata": {},
   "outputs": [],
   "source": [
    "# format response\n",
    "\n",
    "response = prices.diff(axis=1).dropna(axis=1)"
   ]
  },
  {
   "cell_type": "code",
   "execution_count": 6,
   "metadata": {},
   "outputs": [],
   "source": [
    "# format covariates\n",
    "\n",
    "covariates = macro.loc[:, factor_names]\n",
    "covariates['_constant'] = 1\n",
    "covariates['_trend'] = np.arange(covariates.shape[0])\n",
    "covariates = covariates.loc[:, ['_trend', 'housing']].diff().dropna().loc[response.columns]"
   ]
  },
  {
   "cell_type": "code",
   "execution_count": 7,
   "metadata": {},
   "outputs": [
    {
     "name": "stderr",
     "output_type": "stream",
     "text": [
      "/tmp/ipykernel_4634/1268562597.py:8: FutureWarning: In a future version of pandas all arguments of DataFrame.drop except for the argument 'labels' will be keyword-only\n",
      "  indices = indices.drop('zip', 1)\n"
     ]
    }
   ],
   "source": [
    "# construct graph\n",
    "\n",
    "indices = response.index.to_frame()\n",
    "indices['lvl_1'] = indices.zip.str.slice(0, 2)\n",
    "indices['lvl_2'] = indices.zip.str.slice(0, 3)\n",
    "indices['lvl_3'] = indices.zip.str.slice(0, 4)\n",
    "indices['lvl_4'] = indices.zip.str.slice(0, 5)\n",
    "indices = indices.drop('zip', 1)\n",
    "codes = indices.apply(lambda x: x.astype('category').cat.codes).astype('int64')\n",
    "n_nodes = codes.max(0) + 1\n",
    "parent_node_3 = codes[['lvl_4', 'lvl_3']].drop_duplicates().lvl_3\n",
    "parent_node_2 = codes[['lvl_3', 'lvl_2']].drop_duplicates().lvl_2\n",
    "parent_node_1 = codes[['lvl_2', 'lvl_1']].drop_duplicates().lvl_1\n",
    "node_names = [['0'], indices.lvl_1.unique(), indices.lvl_2.unique(), indices.lvl_3.unique(), indices.lvl_4.unique()]\n",
    "graph = [parent_node_3.values, parent_node_2.values, parent_node_1.values]"
   ]
  },
  {
   "cell_type": "code",
   "execution_count": 8,
   "metadata": {},
   "outputs": [],
   "source": [
    "# conduct experiments\n",
    "\n",
    "seeds = rng.uniform(size=response.values.shape)\n",
    "samples = [sample_chain(response, covariates, graph, pr, seeds, n_samples, n_warmup, rng) for pr in np.linspace(0, 1, 11)]"
   ]
  },
  {
   "cell_type": "code",
   "execution_count": 9,
   "metadata": {},
   "outputs": [],
   "source": [
    "df_samples = pd.concat(samples)\n",
    "df_acf = est_acf(df_samples, 64).rename_axis(columns='lag')\n",
    "df_ess = est_ess(df_acf, 1)"
   ]
  },
  {
   "cell_type": "code",
   "execution_count": 4,
   "metadata": {},
   "outputs": [
    {
     "data": {
      "image/png": "[encoded data removed]",
      "text/plain": [
       "<Figure size 320x200 with 1 Axes>"
      ]
     },
     "metadata": {},
     "output_type": "display_data"
    }
   ],
   "source": [
    "sns.relplot(data=df_acf.iloc[:, :11].stack().rename('value').reset_index(), x='lag', y='value', hue='pr_free', kind='line', aspect=8/5, height=2, legend=False, palette=sns.color_palette('flare', as_cmap=True), linewidth=1)\n",
    "plt.ylabel('ACF')"
   ]
  }
 ],
 "metadata": {
  "kernelspec": {
   "display_name": "nfx-remote-yHMKO00r-py3.10",
   "language": "python",
   "name": "python3"
  },
  "language_info": {
   "codemirror_mode": {
    "name": "ipython",
    "version": 3
   },
   "file_extension": ".py",
   "mimetype": "text/x-python",
   "name": "python",
   "nbconvert_exporter": "python",
   "pygments_lexer": "ipython3",
   "version": "3.10.6 (main, Nov 14 2022, 16:10:14) [GCC 11.3.0]"
  },
  "metadata": {
   "interpreter": {
    "hash": "0414ad82ab456811b10c2eaad0962924c5698674072e97130a475dec6a2d3b36"
   }
  },
  "orig_nbformat": 2,
  "vscode": {
   "interpreter": {
    "hash": "c585f732d6910f9348f8a25c91e9e471637e01e97c0c6a2dd5bf9f78a69f12da"
   }
  }
 },
 "nbformat": 4,
 "nbformat_minor": 2
}
