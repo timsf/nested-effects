{
 "metadata": {
  "language_info": {
   "codemirror_mode": {
    "name": "ipython",
    "version": 3
   },
   "file_extension": ".py",
   "mimetype": "text/x-python",
   "name": "python",
   "nbconvert_exporter": "python",
   "pygments_lexer": "ipython3",
   "version": "3.8.5"
  },
  "orig_nbformat": 2,
  "kernelspec": {
   "name": "python385jvsc74a57bd00414ad82ab456811b10c2eaad0962924c5698674072e97130a475dec6a2d3b36",
   "display_name": "Python 3.8.5 64-bit ('nfx_remote-j07VlOPI': venv)"
  },
  "metadata": {
   "interpreter": {
    "hash": "0414ad82ab456811b10c2eaad0962924c5698674072e97130a475dec6a2d3b36"
   }
  }
 },
 "nbformat": 4,
 "nbformat_minor": 2,
 "cells": [
  {
   "cell_type": "code",
   "execution_count": null,
   "source": [
    "# if need be, manually add the local project root to PYTHONPATH and move working directories\n",
    "\n",
    "import os\n",
    "import sys\n",
    "\n",
    "project = '/' # change to local project root\n",
    "sys.path.append(project)\n",
    "os.chdir(project)"
   ],
   "outputs": [],
   "metadata": {}
  },
  {
   "cell_type": "code",
   "execution_count": null,
   "source": [
    "# dependencies\n",
    "\n",
    "import numpy as np\n",
    "import pandas as pd\n",
    "import matplotlib.pyplot as plt\n",
    "import seaborn as sns\n",
    "\n",
    "import nfx.lm.gibbs\n",
    "import nfx.misc.plot"
   ],
   "outputs": [],
   "metadata": {}
  },
  {
   "cell_type": "code",
   "execution_count": null,
   "source": [
    "# helper functions\n",
    "\n",
    "def package_samples(samples, node_names, covariate_names):\n",
    "\n",
    "    loc_samples, prec_samples, nuisance_samples = zip(*samples)\n",
    "    loc_samples = [np.array(loc_samples_) for loc_samples_ in zip(*loc_samples)][::-1]\n",
    "    prec_samples = np.trace(prec_samples, axis1=2, axis2=3).T[::-1]\n",
    "    nuisance_samples = np.array(nuisance_samples)\n",
    "    return package_loc_samples(loc_samples, node_names, covariate_names), package_prec_samples(prec_samples), package_disp_samples(nuisance_samples, node_names)\n",
    "\n",
    "def package_loc_samples(loc_samples, node_names, covariate_names):\n",
    "\n",
    "    dfs = []\n",
    "    for i, (loc_samples_, node_names_) in enumerate(zip(loc_samples, node_names)):\n",
    "        for j, node_names__ in enumerate(node_names_):\n",
    "            df_ = pd.DataFrame(loc_samples_[:, j].T, index=covariate_names)\n",
    "            df_.index = df_.index.rename('covariate')\n",
    "            df_.columns = df_.columns.rename('iter')\n",
    "            df_['level'] = i\n",
    "            df_['node'] = node_names__.zfill(i + 1)\n",
    "            dfs.append(df_)\n",
    "    df = pd.concat(dfs).reset_index().set_index(['level', 'node', 'covariate'])\n",
    "    return df\n",
    "\n",
    "def package_prec_samples(prec_samples):\n",
    "\n",
    "    df = pd.DataFrame(prec_samples, index=np.arange(len(prec_samples)))\n",
    "    df.index = df.index.rename('level')\n",
    "    df.columns = df.columns.rename('iter')\n",
    "    df = df.reset_index().set_index(['level'])\n",
    "    return df\n",
    "\n",
    "def package_disp_samples(nuisance_samples, node_names):\n",
    "\n",
    "    df = pd.DataFrame(np.mean(nuisance_samples, 0)[np.newaxis], index=['mean'])\n",
    "    df.index = df.index.rename('node')\n",
    "    df.columns = df.columns.rename('iter')\n",
    "    df = df.reset_index().set_index(['node'])\n",
    "    return df"
   ],
   "outputs": [],
   "metadata": {}
  },
  {
   "cell_type": "code",
   "execution_count": null,
   "source": [
    "# config\n",
    "\n",
    "covariate_names = ['housing']\n",
    "n_samples = 1000\n",
    "n_warmup = 100\n",
    "seed = 0"
   ],
   "outputs": [],
   "metadata": {}
  },
  {
   "cell_type": "code",
   "execution_count": null,
   "source": [
    "# load data\n",
    "\n",
    "macro = pd.read_csv('demos/data/sareb_covariates.csv').set_index('time')\n",
    "prices = pd.read_csv('demos/data/sareb_prices_synthetic.csv').set_index('zip')\n",
    "rng = np.random.default_rng(seed)"
   ],
   "outputs": [],
   "metadata": {}
  },
  {
   "cell_type": "code",
   "execution_count": null,
   "source": [
    "# format response\n",
    "\n",
    "response = prices.dropna(axis=1)"
   ],
   "outputs": [],
   "metadata": {}
  },
  {
   "cell_type": "code",
   "execution_count": null,
   "source": [
    "# format covariates\n",
    "\n",
    "covariates = macro.loc[:, covariate_names]\n",
    "covariates['_constant'] = 1\n",
    "covariates['_trend'] = np.arange(covariates.shape[0])\n",
    "covariates = covariates.loc[:, ['_constant', '_trend', 'housing']].dropna().loc[response.columns]"
   ],
   "outputs": [],
   "metadata": {}
  },
  {
   "cell_type": "code",
   "execution_count": null,
   "source": [
    "# construct tree\n",
    "\n",
    "indices = response.index.to_frame()\n",
    "indices['lvl_1'] = indices.zip.str.slice(0, 2)\n",
    "indices['lvl_2'] = indices.zip.str.slice(0, 3)\n",
    "indices['lvl_3'] = indices.zip.str.slice(0, 4)\n",
    "indices['lvl_4'] = indices.zip.str.slice(0, 5)\n",
    "indices = indices.drop('zip', 1)\n",
    "codes = indices.apply(lambda x: x.astype('category').cat.codes).astype('int64')\n",
    "n_nodes = codes.max(0) + 1\n",
    "parent_node_3 = codes[['lvl_4', 'lvl_3']].drop_duplicates().lvl_3\n",
    "parent_node_2 = codes[['lvl_3', 'lvl_2']].drop_duplicates().lvl_2\n",
    "parent_node_1 = codes[['lvl_2', 'lvl_1']].drop_duplicates().lvl_1\n",
    "node_names = [['0'], indices.lvl_1.unique(), indices.lvl_2.unique(), indices.lvl_3.unique(), indices.lvl_4.unique()]\n",
    "tree = [parent_node_3.values, parent_node_2.values, parent_node_1.values]"
   ],
   "outputs": [],
   "metadata": {}
  },
  {
   "cell_type": "code",
   "execution_count": null,
   "source": [
    "# sample\n",
    "\n",
    "sampler = nfx.lm.gibbs.sample_posterior(response.values, covariates.values, tree, ome=rng)\n",
    "samples = [next(sampler) for _ in range(n_warmup + n_samples)][n_warmup:]"
   ],
   "outputs": [],
   "metadata": {}
  },
  {
   "cell_type": "code",
   "execution_count": null,
   "source": [
    "# reformat samples for plotting\n",
    "\n",
    "coef_samples, prec_samples, nuisance_samples = package_samples(samples, node_names, ['_constant', '_trend'] + covariate_names)"
   ],
   "outputs": [],
   "metadata": {}
  },
  {
   "cell_type": "code",
   "execution_count": null,
   "source": [
    "# coefficient samples\n",
    "\n",
    "coef_samples.iloc[:5, :5]"
   ],
   "outputs": [],
   "metadata": {}
  },
  {
   "cell_type": "code",
   "execution_count": null,
   "source": [
    "# prior precision trace samples\n",
    "\n",
    "prec_samples.iloc[:5, :5]"
   ],
   "outputs": [],
   "metadata": {}
  },
  {
   "cell_type": "code",
   "execution_count": null,
   "source": [
    "# plot traces for root coefficients, grid and color by covariate\n",
    "\n",
    "nfx.misc.plot.plot_traces(coef_samples.loc[0], 'iter', 'covariate', 'covariate')"
   ],
   "outputs": [],
   "metadata": {}
  },
  {
   "cell_type": "code",
   "execution_count": null,
   "source": [
    "# plot marginals for root coefficients, grid and color by covariate\n",
    "\n",
    "nfx.misc.plot.plot_marginals(coef_samples.loc[0], 'covariate', 'covariate')"
   ],
   "outputs": [],
   "metadata": {}
  },
  {
   "cell_type": "code",
   "execution_count": null,
   "source": [
    "# plot ACFs for prior precision traces, grid and color by level\n",
    "\n",
    "nfx.misc.plot.plot_acf(prec_samples, 'level', 'level')"
   ],
   "outputs": [],
   "metadata": {}
  }
 ]
}