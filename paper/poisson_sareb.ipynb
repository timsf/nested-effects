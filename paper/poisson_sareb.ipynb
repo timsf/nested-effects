{
 "cells": [
  {
   "cell_type": "code",
   "execution_count": 130,
   "metadata": {},
   "outputs": [],
   "source": [
    "# dependencies\n",
    "\n",
    "import numpy as np\n",
    "import pandas as pd\n",
    "import matplotlib.pyplot as plt\n",
    "import seaborn as sns\n",
    "\n",
    "import nfx.glm.poisson\n",
    "import nfx.glm.gaussian\n",
    "import nfx.misc.plot\n",
    "\n",
    "sns.set()\n",
    "plt.rcParams.update({   \n",
    "          \"text.usetex\" : True,\n",
    "          \"pgf.texsystem\": 'pdflatex',\n",
    "          \"font.size\": 8,\n",
    "          \"font.family\" : \"serif\"})"
   ]
  },
  {
   "cell_type": "code",
   "execution_count": 45,
   "metadata": {},
   "outputs": [],
   "source": [
    "# helper functions\n",
    "\n",
    "def package_samples(samples, node_names, covariate_names, meta):\n",
    "\n",
    "    coef_samples, prec_samples = zip(*samples)\n",
    "    coef_samples = [np.array(coef_samples_) for coef_samples_ in zip(*coef_samples)][::-1]\n",
    "    prec_samples = np.trace(prec_samples, axis1=2, axis2=3).T[::-1]\n",
    "    return package_coef_samples(coef_samples, node_names, covariate_names, meta), package_prec_samples(prec_samples, meta)\n",
    "\n",
    "def package_coef_samples(coef_samples, node_names, covariate_names, meta):\n",
    "\n",
    "    dfs = []\n",
    "    for i, (coef_samples_, node_names_) in enumerate(zip(coef_samples, node_names)):\n",
    "        for j, node_names__ in enumerate(node_names_):\n",
    "            df_ = pd.DataFrame(coef_samples_[:, j].T, index=covariate_names)\n",
    "            df_.index = df_.index.rename('covariate')\n",
    "            df_.columns = df_.columns.rename('iter')\n",
    "            for k, v in meta.items():\n",
    "                df_[k] = v\n",
    "            df_['level'] = i\n",
    "            df_['node'] = node_names__.zfill(i + 1)\n",
    "            dfs.append(df_)\n",
    "    df = pd.concat(dfs).reset_index().set_index(['level', 'node', 'covariate'] + list(meta.keys()))\n",
    "    return df\n",
    "\n",
    "def package_prec_samples(prec_samples, meta):\n",
    "\n",
    "    df = pd.DataFrame(prec_samples, index=np.arange(len(prec_samples)))\n",
    "    df.index = df.index.rename('level')\n",
    "    df.columns = df.columns.rename('iter')\n",
    "    for k, v in meta.items():\n",
    "        df[k] = v\n",
    "    df = df.reset_index().set_index(['level'] + list(meta.keys()))\n",
    "    return df\n",
    "\n",
    "def est_acf(samples, n_lags):\n",
    "\n",
    "    acf = samples.apply(lambda x: nfx.misc.plot.est_acf(x.values, n_lags), 1, False, 'expand')\n",
    "    acf.columns = acf.columns.rename('lag')\n",
    "    return acf\n",
    "\n",
    "def est_ess(acfs, titer):\n",
    "    \n",
    "    df = pd.DataFrame(index=acfs.index)\n",
    "    df['iat[iter]'] = acfs.apply(lambda x: nfx.misc.plot.est_int_autocor(x.values), 1, False, 'expand').rename('iat')\n",
    "    df['iat[sec]'] = df['iat[iter]'] * titer\n",
    "    df['rate[iter]'] = 1 / (2 * df['iat[iter]'])\n",
    "    df['rate[sec]'] = df['rate[iter]'] / titer\n",
    "    return df"
   ]
  },
  {
   "cell_type": "code",
   "execution_count": 46,
   "metadata": {},
   "outputs": [],
   "source": [
    "# config\n",
    "\n",
    "covariate_names = ['housing']\n",
    "n_samples = 10000\n",
    "n_warmup = 1000\n",
    "seed = 0"
   ]
  },
  {
   "cell_type": "code",
   "execution_count": 47,
   "metadata": {},
   "outputs": [],
   "source": [
    "# load data\n",
    "\n",
    "macro = pd.read_csv('demos/data/sareb_covariates.csv').set_index('time')\n",
    "nobs = pd.read_csv('demos/data/sareb_nobs_synthetic.csv').set_index('zip')\n",
    "rng = np.random.default_rng(seed)"
   ]
  },
  {
   "cell_type": "code",
   "execution_count": 48,
   "metadata": {},
   "outputs": [
    {
     "data": {
      "text/html": [
       "<div>\n",
       "<style scoped>\n",
       "    .dataframe tbody tr th:only-of-type {\n",
       "        vertical-align: middle;\n",
       "    }\n",
       "\n",
       "    .dataframe tbody tr th {\n",
       "        vertical-align: top;\n",
       "    }\n",
       "\n",
       "    .dataframe thead th {\n",
       "        text-align: right;\n",
       "    }\n",
       "</style>\n",
       "<table border=\"1\" class=\"dataframe\">\n",
       "  <thead>\n",
       "    <tr style=\"text-align: right;\">\n",
       "      <th></th>\n",
       "      <th>2007-03-31</th>\n",
       "      <th>2007-06-30</th>\n",
       "      <th>2007-09-30</th>\n",
       "      <th>2007-12-31</th>\n",
       "      <th>2008-03-31</th>\n",
       "      <th>2008-06-30</th>\n",
       "      <th>2008-09-30</th>\n",
       "      <th>2008-12-31</th>\n",
       "      <th>2009-03-31</th>\n",
       "      <th>2009-06-30</th>\n",
       "      <th>...</th>\n",
       "      <th>2015-12-31</th>\n",
       "      <th>2016-03-31</th>\n",
       "      <th>2016-06-30</th>\n",
       "      <th>2016-09-30</th>\n",
       "      <th>2016-12-31</th>\n",
       "      <th>2017-03-31</th>\n",
       "      <th>2017-06-30</th>\n",
       "      <th>2017-09-30</th>\n",
       "      <th>2017-12-31</th>\n",
       "      <th>2018-03-31</th>\n",
       "    </tr>\n",
       "    <tr>\n",
       "      <th>zip</th>\n",
       "      <th></th>\n",
       "      <th></th>\n",
       "      <th></th>\n",
       "      <th></th>\n",
       "      <th></th>\n",
       "      <th></th>\n",
       "      <th></th>\n",
       "      <th></th>\n",
       "      <th></th>\n",
       "      <th></th>\n",
       "      <th></th>\n",
       "      <th></th>\n",
       "      <th></th>\n",
       "      <th></th>\n",
       "      <th></th>\n",
       "      <th></th>\n",
       "      <th></th>\n",
       "      <th></th>\n",
       "      <th></th>\n",
       "      <th></th>\n",
       "      <th></th>\n",
       "    </tr>\n",
       "  </thead>\n",
       "  <tbody>\n",
       "    <tr>\n",
       "      <th>01002</th>\n",
       "      <td>428</td>\n",
       "      <td>249</td>\n",
       "      <td>154</td>\n",
       "      <td>163</td>\n",
       "      <td>62</td>\n",
       "      <td>181</td>\n",
       "      <td>172</td>\n",
       "      <td>22</td>\n",
       "      <td>20</td>\n",
       "      <td>18</td>\n",
       "      <td>...</td>\n",
       "      <td>32</td>\n",
       "      <td>31</td>\n",
       "      <td>43</td>\n",
       "      <td>28</td>\n",
       "      <td>43</td>\n",
       "      <td>53</td>\n",
       "      <td>69</td>\n",
       "      <td>31</td>\n",
       "      <td>74</td>\n",
       "      <td>43</td>\n",
       "    </tr>\n",
       "    <tr>\n",
       "      <th>01003</th>\n",
       "      <td>54</td>\n",
       "      <td>49</td>\n",
       "      <td>16</td>\n",
       "      <td>36</td>\n",
       "      <td>144</td>\n",
       "      <td>59</td>\n",
       "      <td>142</td>\n",
       "      <td>206</td>\n",
       "      <td>41</td>\n",
       "      <td>19</td>\n",
       "      <td>...</td>\n",
       "      <td>61</td>\n",
       "      <td>48</td>\n",
       "      <td>101</td>\n",
       "      <td>37</td>\n",
       "      <td>86</td>\n",
       "      <td>73</td>\n",
       "      <td>61</td>\n",
       "      <td>79</td>\n",
       "      <td>43</td>\n",
       "      <td>71</td>\n",
       "    </tr>\n",
       "    <tr>\n",
       "      <th>01006</th>\n",
       "      <td>29</td>\n",
       "      <td>26</td>\n",
       "      <td>14</td>\n",
       "      <td>7</td>\n",
       "      <td>19</td>\n",
       "      <td>10</td>\n",
       "      <td>3</td>\n",
       "      <td>25</td>\n",
       "      <td>110</td>\n",
       "      <td>11</td>\n",
       "      <td>...</td>\n",
       "      <td>31</td>\n",
       "      <td>35</td>\n",
       "      <td>43</td>\n",
       "      <td>29</td>\n",
       "      <td>50</td>\n",
       "      <td>29</td>\n",
       "      <td>45</td>\n",
       "      <td>69</td>\n",
       "      <td>29</td>\n",
       "      <td>39</td>\n",
       "    </tr>\n",
       "    <tr>\n",
       "      <th>0100x</th>\n",
       "      <td>156</td>\n",
       "      <td>117</td>\n",
       "      <td>174</td>\n",
       "      <td>92</td>\n",
       "      <td>172</td>\n",
       "      <td>137</td>\n",
       "      <td>183</td>\n",
       "      <td>88</td>\n",
       "      <td>96</td>\n",
       "      <td>74</td>\n",
       "      <td>...</td>\n",
       "      <td>124</td>\n",
       "      <td>65</td>\n",
       "      <td>133</td>\n",
       "      <td>100</td>\n",
       "      <td>87</td>\n",
       "      <td>185</td>\n",
       "      <td>154</td>\n",
       "      <td>147</td>\n",
       "      <td>176</td>\n",
       "      <td>142</td>\n",
       "    </tr>\n",
       "    <tr>\n",
       "      <th>01010</th>\n",
       "      <td>98</td>\n",
       "      <td>76</td>\n",
       "      <td>50</td>\n",
       "      <td>72</td>\n",
       "      <td>36</td>\n",
       "      <td>54</td>\n",
       "      <td>38</td>\n",
       "      <td>71</td>\n",
       "      <td>29</td>\n",
       "      <td>60</td>\n",
       "      <td>...</td>\n",
       "      <td>47</td>\n",
       "      <td>52</td>\n",
       "      <td>80</td>\n",
       "      <td>58</td>\n",
       "      <td>78</td>\n",
       "      <td>87</td>\n",
       "      <td>87</td>\n",
       "      <td>68</td>\n",
       "      <td>99</td>\n",
       "      <td>254</td>\n",
       "    </tr>\n",
       "  </tbody>\n",
       "</table>\n",
       "<p>5 rows × 45 columns</p>\n",
       "</div>"
      ],
      "text/plain": [
       "       2007-03-31  2007-06-30  2007-09-30  2007-12-31  2008-03-31  2008-06-30  \\\n",
       "zip                                                                             \n",
       "01002         428         249         154         163          62         181   \n",
       "01003          54          49          16          36         144          59   \n",
       "01006          29          26          14           7          19          10   \n",
       "0100x         156         117         174          92         172         137   \n",
       "01010          98          76          50          72          36          54   \n",
       "\n",
       "       2008-09-30  2008-12-31  2009-03-31  2009-06-30  ...  2015-12-31  \\\n",
       "zip                                                    ...               \n",
       "01002         172          22          20          18  ...          32   \n",
       "01003         142         206          41          19  ...          61   \n",
       "01006           3          25         110          11  ...          31   \n",
       "0100x         183          88          96          74  ...         124   \n",
       "01010          38          71          29          60  ...          47   \n",
       "\n",
       "       2016-03-31  2016-06-30  2016-09-30  2016-12-31  2017-03-31  2017-06-30  \\\n",
       "zip                                                                             \n",
       "01002          31          43          28          43          53          69   \n",
       "01003          48         101          37          86          73          61   \n",
       "01006          35          43          29          50          29          45   \n",
       "0100x          65         133         100          87         185         154   \n",
       "01010          52          80          58          78          87          87   \n",
       "\n",
       "       2017-09-30  2017-12-31  2018-03-31  \n",
       "zip                                        \n",
       "01002          31          74          43  \n",
       "01003          79          43          71  \n",
       "01006          69          29          39  \n",
       "0100x         147         176         142  \n",
       "01010          68          99         254  \n",
       "\n",
       "[5 rows x 45 columns]"
      ]
     },
     "execution_count": 48,
     "metadata": {},
     "output_type": "execute_result"
    }
   ],
   "source": [
    "# format response\n",
    "\n",
    "response = nobs.dropna(axis=1)\n",
    "response.head()"
   ]
  },
  {
   "cell_type": "code",
   "execution_count": 49,
   "metadata": {},
   "outputs": [
    {
     "data": {
      "text/html": [
       "<div>\n",
       "<style scoped>\n",
       "    .dataframe tbody tr th:only-of-type {\n",
       "        vertical-align: middle;\n",
       "    }\n",
       "\n",
       "    .dataframe tbody tr th {\n",
       "        vertical-align: top;\n",
       "    }\n",
       "\n",
       "    .dataframe thead th {\n",
       "        text-align: right;\n",
       "    }\n",
       "</style>\n",
       "<table border=\"1\" class=\"dataframe\">\n",
       "  <thead>\n",
       "    <tr style=\"text-align: right;\">\n",
       "      <th></th>\n",
       "      <th>_constant</th>\n",
       "      <th>_trend</th>\n",
       "      <th>housing</th>\n",
       "    </tr>\n",
       "  </thead>\n",
       "  <tbody>\n",
       "    <tr>\n",
       "      <th>2007-03-31</th>\n",
       "      <td>1</td>\n",
       "      <td>0</td>\n",
       "      <td>0.000000</td>\n",
       "    </tr>\n",
       "    <tr>\n",
       "      <th>2007-06-30</th>\n",
       "      <td>1</td>\n",
       "      <td>1</td>\n",
       "      <td>0.028160</td>\n",
       "    </tr>\n",
       "    <tr>\n",
       "      <th>2007-09-30</th>\n",
       "      <td>1</td>\n",
       "      <td>2</td>\n",
       "      <td>0.038869</td>\n",
       "    </tr>\n",
       "    <tr>\n",
       "      <th>2007-12-31</th>\n",
       "      <td>1</td>\n",
       "      <td>3</td>\n",
       "      <td>0.031732</td>\n",
       "    </tr>\n",
       "    <tr>\n",
       "      <th>2008-03-31</th>\n",
       "      <td>1</td>\n",
       "      <td>4</td>\n",
       "      <td>0.028020</td>\n",
       "    </tr>\n",
       "  </tbody>\n",
       "</table>\n",
       "</div>"
      ],
      "text/plain": [
       "            _constant  _trend   housing\n",
       "2007-03-31          1       0  0.000000\n",
       "2007-06-30          1       1  0.028160\n",
       "2007-09-30          1       2  0.038869\n",
       "2007-12-31          1       3  0.031732\n",
       "2008-03-31          1       4  0.028020"
      ]
     },
     "execution_count": 49,
     "metadata": {},
     "output_type": "execute_result"
    }
   ],
   "source": [
    "# format covariates\n",
    "\n",
    "covariates = macro.loc[:, covariate_names]\n",
    "covariates['_constant'] = 1\n",
    "covariates['_trend'] = np.arange(covariates.shape[0])\n",
    "covariates = covariates.loc[:, ['_constant', '_trend', 'housing']].dropna().loc[response.columns]\n",
    "covariates.head()"
   ]
  },
  {
   "cell_type": "code",
   "execution_count": 50,
   "metadata": {},
   "outputs": [],
   "source": [
    "# construct tree\n",
    "\n",
    "indices = response.index.to_frame()\n",
    "indices['lvl_1'] = indices.zip.str.slice(0, 2)\n",
    "indices['lvl_2'] = indices.zip.str.slice(0, 3)\n",
    "indices['lvl_3'] = indices.zip.str.slice(0, 4)\n",
    "indices['lvl_4'] = indices.zip.str.slice(0, 5)\n",
    "indices = indices.drop('zip', axis=1)\n",
    "codes = indices.apply(lambda x: x.astype('category').cat.codes).astype('int64')\n",
    "n_nodes = codes.max(0) + 1\n",
    "parent_node_3 = codes[['lvl_4', 'lvl_3']].drop_duplicates().lvl_3\n",
    "parent_node_2 = codes[['lvl_3', 'lvl_2']].drop_duplicates().lvl_2\n",
    "parent_node_1 = codes[['lvl_2', 'lvl_1']].drop_duplicates().lvl_1\n",
    "node_names = [['0'], indices.lvl_1.unique(), indices.lvl_2.unique(), indices.lvl_3.unique(), indices.lvl_4.unique()]\n",
    "tree = [parent_node_3.values, parent_node_2.values, parent_node_1.values]"
   ]
  },
  {
   "cell_type": "code",
   "execution_count": 51,
   "metadata": {},
   "outputs": [
    {
     "name": "stderr",
     "output_type": "stream",
     "text": [
      "/Users/tim.sf/Documents/research/hierarch/nfx_remote/nfx/glm/metropolis.py:112: RuntimeWarning: invalid value encountered in sqrt\n",
      "  mah = np.sum(np.square(((x - mu) @ u) * np.sqrt(l_tau)), 1)\n",
      "/Users/tim.sf/Documents/research/hierarch/nfx_remote/nfx/glm/metropolis.py:113: RuntimeWarning: invalid value encountered in log\n",
      "  return (np.sum(np.log(l_tau), 1) - mah - x.shape[1] * np.log(2 * np.pi)) / 2\n"
     ]
    }
   ],
   "source": [
    "# sample from posterior. some warnings will appear during warmup\n",
    "\n",
    "sampler = nfx.glm.poisson.sample_posterior(response.values, np.ones_like(response.values), covariates.values, tree, ome=rng)\n",
    "samples = [next(sampler) for _ in range(n_warmup + n_samples)][n_warmup:]"
   ]
  },
  {
   "cell_type": "code",
   "execution_count": 52,
   "metadata": {},
   "outputs": [],
   "source": [
    "# compute sla summaries\n",
    "\n",
    "coef_samples, prec_samples = package_samples(samples, node_names, ['_const', '_trend'] + covariate_names, {'algo_name': 'SLA'})\n",
    "coef_acf, prec_acf = (est_acf(samples_, 256) for samples_ in (coef_samples, prec_samples))\n",
    "coef_ess, prec_ess = (est_ess(acfs_, 1) for acfs_ in (coef_acf, prec_acf))"
   ]
  },
  {
   "cell_type": "code",
   "execution_count": 131,
   "metadata": {},
   "outputs": [
    {
     "name": "stderr",
     "output_type": "stream",
     "text": [
      "/Users/tim.sf/Library/Caches/pypoetry/virtualenvs/nfx-remote-J5Ks3VFH-py3.10/lib/python3.10/site-packages/seaborn/axisgrid.py:118: UserWarning: The figure layout has changed to tight\n",
      "  self._figure.tight_layout(*args, **kwargs)\n"
     ]
    },
    {
     "data": {
      "image/png": "[encoded data removed]",
      "text/plain": [
       "<Figure size 320x200 with 1 Axes>"
      ]
     },
     "metadata": {},
     "output_type": "display_data"
    }
   ],
   "source": [
    "acf = pd.concat([coef_acf.reset_index(), prec_acf.reset_index()]).set_index(['algo_name', 'level', 'node', 'covariate'])\n",
    "iat = acf.apply(lambda x: nfx.misc.plot.est_int_autocor(x.values), 1, False, 'expand').rename('iat')\n",
    "rank = iat.rank(ascending=False)\n",
    "#acf = acf.loc[(acf.columns.astype(float) < 10) | (acf.columns.astype(float) % 10 == 0)].reset_index()\n",
    "acf = acf.loc[(rank < 20) | (rank % 20 == 0)].reset_index()\n",
    "acf['param_ix'] = acf.index\n",
    "acf_long = acf.melt(id_vars=['algo_name', 'level', 'node', 'covariate', 'param_ix'], var_name='lag').dropna(subset=['value'])\n",
    "acf_long['type'] = acf_long.node.isna()\n",
    "\n",
    "g = sns.relplot(data=acf_long, x='lag', y='value', kind='line', style='param_ix', legend=False, height=2, aspect=8/5, alpha=1/3, lw=1/3)\n",
    "g.set(xlabel='lag', ylabel='ACF', xlim=(-.5, 10.5), xticks=np.arange(0, 11))\n",
    "g.set_titles(col_template='{col_name}')\n",
    "\n",
    "plt.savefig('/Users/tim.sf/Documents/research/hierarch/paper_ejs_revision2/figs/nested_poisson_sareb.pdf', backend='pgf', bbox_inches='tight')"
   ]
  },
  {
   "cell_type": "code",
   "execution_count": 192,
   "metadata": {},
   "outputs": [
    {
     "data": {
      "text/plain": [
       "[<matplotlib.lines.Line2D at 0x2a6f65c00>]"
      ]
     },
     "execution_count": 192,
     "metadata": {},
     "output_type": "execute_result"
    },
    {
     "data": {
      "image/png": "[encoded data removed]",
      "text/plain": [
       "<Figure size 640x480 with 1 Axes>"
      ]
     },
     "metadata": {},
     "output_type": "display_data"
    }
   ],
   "source": [
    "plt.plot(coef_samples.loc[4, '28760', 'housing', 'SLA'])\n",
    "plt.plot(coef_samples.loc[3, '2876', 'housing', 'SLA'])\n",
    "plt.plot(coef_samples.loc[2, '287', 'housing', 'SLA'])"
   ]
  },
  {
   "cell_type": "code",
   "execution_count": 246,
   "metadata": {},
   "outputs": [],
   "source": [
    "# sample from posterior. some warnings will appear during warmup\n",
    "\n",
    "import importlib; importlib.reload(nfx.glm.poisson); importlib.reload(nfx.glm.poisson.gibbs)\n",
    "sampler2 = nfx.glm.poisson.sample_posterior(response.values, np.ones_like(response.values), covariates.values, tree, init=samples[-1], ome=rng)\n",
    "samples2 = [next(sampler2) for _ in range(2000)][n_warmup:]"
   ]
  },
  {
   "cell_type": "code",
   "execution_count": 247,
   "metadata": {},
   "outputs": [],
   "source": [
    "# compute sla summaries\n",
    "\n",
    "coef_samples, prec_samples = package_samples(samples2, node_names, ['_const', '_trend'] + covariate_names, {'algo_name': 'SLA'})\n",
    "coef_acf, prec_acf = (est_acf(samples_, 256) for samples_ in (coef_samples, prec_samples))\n",
    "coef_ess, prec_ess = (est_ess(acfs_, 1) for acfs_ in (coef_acf, prec_acf))"
   ]
  },
  {
   "cell_type": "code",
   "execution_count": 248,
   "metadata": {},
   "outputs": [
    {
     "data": {
      "text/plain": [
       "iat[iter]     1.490798\n",
       "iat[sec]      1.490798\n",
       "rate[iter]    1.863963\n",
       "rate[sec]     1.863963\n",
       "dtype: float64"
      ]
     },
     "execution_count": 248,
     "metadata": {},
     "output_type": "execute_result"
    }
   ],
   "source": [
    "coef_ess.max()"
   ]
  }
 ],
 "metadata": {
  "kernelspec": {
   "display_name": "Python 3.10.6 ('nfx-remote-yHMKO00r-py3.10')",
   "language": "python",
   "name": "python3"
  },
  "language_info": {
   "codemirror_mode": {
    "name": "ipython",
    "version": 3
   },
   "file_extension": ".py",
   "mimetype": "text/x-python",
   "name": "python",
   "nbconvert_exporter": "python",
   "pygments_lexer": "ipython3",
   "version": "3.10.13"
  },
  "metadata": {
   "interpreter": {
    "hash": "0414ad82ab456811b10c2eaad0962924c5698674072e97130a475dec6a2d3b36"
   }
  },
  "orig_nbformat": 2,
  "vscode": {
   "interpreter": {
    "hash": "c585f732d6910f9348f8a25c91e9e471637e01e97c0c6a2dd5bf9f78a69f12da"
   }
  }
 },
 "nbformat": 4,
 "nbformat_minor": 2
}
