{
 "cells": [
  {
   "cell_type": "code",
   "execution_count": 1,
   "metadata": {},
   "outputs": [],
   "source": [
    "# dependencies\n",
    "\n",
    "import datetime\n",
    "\n",
    "import numpy as np\n",
    "import pandas as pd\n",
    "import pystan as stan\n",
    "import matplotlib.pyplot as plt\n",
    "import seaborn as sns\n",
    "\n",
    "import nfx.lm.gibbs\n",
    "import nfx.misc.plot"
   ]
  },
  {
   "cell_type": "code",
   "execution_count": 5,
   "metadata": {},
   "outputs": [],
   "source": [
    "# helper functions\n",
    "\n",
    "def package_sla_samples(samples, node_names, covariate_names):\n",
    "\n",
    "    coef_samples, prec_samples, nuisance_samples = zip(*sla_samples)\n",
    "    coef_samples = [np.array(coef_samples_) for coef_samples_ in zip(*coef_samples)][::-1]\n",
    "    prec_samples = np.trace(prec_samples, axis1=2, axis2=3).T[::-1]\n",
    "    nuisance_samples = np.array(nuisance_samples).T\n",
    "    return package_coef_samples(coef_samples, node_names, covariate_names, 'SLA'), package_prec_samples(prec_samples, 'SLA'), package_nuisance_samples(nuisance_samples, node_names[-1], 'SLA')\n",
    "\n",
    "def package_nuts_samples(samples, node_names, covariate_names):\n",
    "\n",
    "    coef_samples = [s[:, 0] for s in [samples[par] for par in ('loc_0', 'loc_1', 'loc_2', 'loc_3', 'coefs')]]\n",
    "    coef_samples[0] = coef_samples[0][:, np.newaxis]\n",
    "    prec_samples = np.array([[np.trace(np.linalg.inv(tau__[0])) for tau__ in tau_] for tau_ in [nuts_samples[par] for par in ('cov_1', 'cov_2', 'cov_3', 'cov_4')]])\n",
    "    nuisance_samples = 1 / samples['var_resid'][:, 0].T\n",
    "    return package_coef_samples(coef_samples, node_names, covariate_names, 'Stan/NUTS'), package_prec_samples(prec_samples, 'Stan/NUTS'), package_nuisance_samples(nuisance_samples, node_names[-1], 'Stan/NUTS')\n",
    "\n",
    "def package_coef_samples(coef_samples, node_names, covariate_names, algo_name):\n",
    "\n",
    "    dfs = []\n",
    "    for i, (coef_samples_, node_names_) in enumerate(zip(coef_samples, node_names)):\n",
    "        for j, node_names__ in enumerate(node_names_):\n",
    "            df_ = pd.DataFrame(coef_samples_[:, j].T, index=covariate_names)\n",
    "            df_.index = df_.index.rename('covariate')\n",
    "            df_.columns = df_.columns.rename('iter')\n",
    "            df_['algo'] = algo_name\n",
    "            df_['level'] = i\n",
    "            df_['node'] = node_names__.zfill(i + 1)\n",
    "            dfs.append(df_)\n",
    "    df = pd.concat(dfs).reset_index().set_index(['algo', 'level', 'node', 'covariate'])\n",
    "    return df\n",
    "\n",
    "def package_prec_samples(prec_samples, algo_name):\n",
    "\n",
    "    df = pd.DataFrame(prec_samples, index=np.arange(len(prec_samples)))\n",
    "    df.index = df.index.rename('level')\n",
    "    df.columns = df.columns.rename('iter')\n",
    "    df['algo'] = algo_name\n",
    "    df = df.reset_index().set_index(['algo', 'level'])\n",
    "    return df\n",
    "\n",
    "def package_nuisance_samples(nuisance_samples, node_names, algo_name):\n",
    "\n",
    "    df = pd.DataFrame(np.mean(nuisance_samples, 0)[np.newaxis], index=['mean'])\n",
    "    df.index = df.index.rename('node')\n",
    "    df.columns = df.columns.rename('iter')\n",
    "    df['algo'] = algo_name\n",
    "    df = df.reset_index().set_index(['algo', 'node'])\n",
    "    return df\n",
    "        \n",
    "def est_acf(samples, n_lags):\n",
    "\n",
    "    acf = samples.apply(lambda x: nfx.misc.plot.est_acf(x.values, n_lags), 1, False, 'expand')\n",
    "    acf.columns = acf.columns.rename('lag')\n",
    "    return acf\n",
    "\n",
    "def est_ess(acfs, titer):\n",
    "    \n",
    "    df = pd.DataFrame(index=acfs.index)\n",
    "    df['iat[iter]'] = acfs.apply(lambda x: nfx.misc.plot.est_int_autocor(x.values), 1, False, 'expand').rename('iat')\n",
    "    df['iat[sec]'] = df['iat[iter]'] * titer\n",
    "    df['rate[iter]'] = 1 / (2 * df['iat[iter]'])\n",
    "    df['rate[sec]'] = df['rate[iter]'] / titer\n",
    "    return df"
   ]
  },
  {
   "cell_type": "code",
   "execution_count": 6,
   "metadata": {},
   "outputs": [],
   "source": [
    "# config\n",
    "\n",
    "covariate_names = ['housing']\n",
    "seed = 0"
   ]
  },
  {
   "cell_type": "code",
   "execution_count": 7,
   "metadata": {},
   "outputs": [],
   "source": [
    "# load data\n",
    "\n",
    "macro = pd.read_csv('paper/data/sareb_covariates.csv').set_index('time')\n",
    "prices = pd.read_csv('paper/data/sareb_prices_synthetic.csv').set_index('zip')\n",
    "rng = np.random.default_rng(seed)"
   ]
  },
  {
   "cell_type": "code",
   "execution_count": 8,
   "metadata": {},
   "outputs": [],
   "source": [
    "# format response\n",
    "\n",
    "response = prices.diff(axis=1).dropna(axis=1)"
   ]
  },
  {
   "cell_type": "code",
   "execution_count": 9,
   "metadata": {},
   "outputs": [],
   "source": [
    "# format covariates\n",
    "\n",
    "covariates = macro.loc[:, covariate_names]\n",
    "covariates['_constant'] = 1\n",
    "covariates['_trend'] = np.arange(covariates.shape[0])\n",
    "covariates = covariates.loc[:, ['_trend', 'housing']].diff().dropna().loc[response.columns]"
   ]
  },
  {
   "cell_type": "code",
   "execution_count": 10,
   "metadata": {},
   "outputs": [
    {
     "name": "stderr",
     "output_type": "stream",
     "text": [
      "/tmp/ipykernel_289998/2691591494.py:8: FutureWarning: In a future version of pandas all arguments of DataFrame.drop except for the argument 'labels' will be keyword-only.\n",
      "  indices = indices.drop('zip', 1)\n"
     ]
    }
   ],
   "source": [
    "# construct tree\n",
    "\n",
    "indices = response.index.to_frame()\n",
    "indices['lvl_1'] = indices.zip.str.slice(0, 2)\n",
    "indices['lvl_2'] = indices.zip.str.slice(0, 3)\n",
    "indices['lvl_3'] = indices.zip.str.slice(0, 4)\n",
    "indices['lvl_4'] = indices.zip.str.slice(0, 5)\n",
    "indices = indices.drop('zip', 1)\n",
    "codes = indices.apply(lambda x: x.astype('category').cat.codes).astype('int64')\n",
    "n_nodes = codes.max(0) + 1\n",
    "parent_node_3 = codes[['lvl_4', 'lvl_3']].drop_duplicates().lvl_3\n",
    "parent_node_2 = codes[['lvl_3', 'lvl_2']].drop_duplicates().lvl_2\n",
    "parent_node_1 = codes[['lvl_2', 'lvl_1']].drop_duplicates().lvl_1\n",
    "tree = [parent_node_3, parent_node_2, parent_node_1]\n",
    "node_names = [['0'], indices.lvl_1.unique(), indices.lvl_2.unique(), indices.lvl_3.unique(), indices.lvl_4.unique()]"
   ]
  },
  {
   "cell_type": "code",
   "execution_count": 11,
   "metadata": {},
   "outputs": [],
   "source": [
    "# assemble nuts inputs\n",
    "\n",
    "nuts_inputs = {\n",
    "    'n_periods': response.shape[1],\n",
    "    'n_leaves': response.shape[0],\n",
    "    'n_covariates': covariates.shape[1],\n",
    "    'n_nodes_3': parent_node_3.max() + 1,\n",
    "    'n_nodes_2': parent_node_2.max() + 1,\n",
    "    'n_nodes_1': parent_node_1.max() + 1,\n",
    "    'parent_node_3': parent_node_3.values + 1,\n",
    "    'parent_node_2': parent_node_2.values + 1,\n",
    "    'parent_node_1': parent_node_1.values + 1,\n",
    "    'covariates': covariates.values.T,\n",
    "    'response': response.values,\n",
    "    'prior_df': covariates.shape[1],\n",
    "    'prior_shape': 1/2,\n",
    "    'prior_rate': 1/2\n",
    "}"
   ]
  },
  {
   "cell_type": "code",
   "execution_count": null,
   "metadata": {},
   "outputs": [],
   "source": [
    "# sample nuts\n",
    "\n",
    "nuts_n_samples = 1000\n",
    "stan_model = stan.StanModel('paper/stan/nfx_panel_normal.stan')\n",
    "t0 = datetime.datetime.now()\n",
    "stan_sampler = stan_model.sampling(data=nuts_inputs, iter=2*nuts_n_samples, warmup=nuts_n_samples, chains=1, seed=0)\n",
    "t1 = datetime.datetime.now()\n",
    "nuts_titer = (t1 - t0).total_seconds() / nuts_n_samples\n",
    "nuts_leaps = stan_sampler.get_sampler_params(inc_warmup=False)[0]['n_leapfrog__'].mean()\n",
    "nuts_samples = stan_sampler.extract(['loc_0', 'loc_1', 'loc_2', 'loc_3', 'coefs', 'cov_1', 'cov_2', 'cov_3', 'cov_4', 'var_resid'], permuted=False)"
   ]
  },
  {
   "cell_type": "code",
   "execution_count": 12,
   "metadata": {},
   "outputs": [],
   "source": [
    "# compute nuts summaries\n",
    "\n",
    "nuts_coef_samples, nuts_prec_samples, nuts_nuisance_samples = package_nuts_samples(nuts_samples, node_names, ['_trend'] + covariate_names)\n",
    "nuts_coef_acf, nuts_prec_acf, nuts_nuisance_acf = (est_acf(samples_, 64) for samples_ in (nuts_coef_samples, nuts_prec_samples, nuts_nuisance_samples))\n",
    "nuts_coef_ess, nuts_prec_ess, nuts_nuisance_ess = (est_ess(acfs_, nuts_titer) for acfs_ in (nuts_coef_acf, nuts_prec_acf, nuts_nuisance_acf))"
   ]
  },
  {
   "cell_type": "code",
   "execution_count": 13,
   "metadata": {},
   "outputs": [],
   "source": [
    "# construct sla inputs\n",
    "\n",
    "sla_inputs = (response.values, covariates.values, tree)"
   ]
  },
  {
   "cell_type": "code",
   "execution_count": 14,
   "metadata": {},
   "outputs": [],
   "source": [
    "# sample sla\n",
    "\n",
    "sla_n_samples = 10000\n",
    "sla_sampler = nfx.lm.gibbs.sample_posterior(*sla_inputs, ome=rng)\n",
    "next(sla_sampler)\n",
    "t0 = datetime.datetime.now()\n",
    "sla_samples = [next(sla_sampler) for _ in  range(10 + sla_n_samples)][10:]\n",
    "t1 = datetime.datetime.now()\n",
    "sla_titer = (t1 - t0).total_seconds() / sla_n_samples"
   ]
  },
  {
   "cell_type": "code",
   "execution_count": 16,
   "metadata": {},
   "outputs": [],
   "source": [
    "# compute sla summaries\n",
    "\n",
    "sla_coef_samples, sla_prec_samples, sla_nuisance_samples = package_sla_samples(sla_samples, node_names, ['_trend'] + covariate_names)\n",
    "sla_coef_acf, sla_prec_acf, sla_nuisance_acf = (est_acf(samples_, 256) for samples_ in (sla_coef_samples, sla_prec_samples, sla_nuisance_samples))\n",
    "sla_coef_ess, sla_prec_ess, sla_nuisance_ess = (est_ess(acfs_, sla_titer) for acfs_ in (sla_coef_acf, sla_prec_acf, sla_nuisance_acf))"
   ]
  },
  {
   "cell_type": "code",
   "execution_count": 17,
   "metadata": {},
   "outputs": [],
   "source": [
    "# stack\n",
    "\n",
    "coef_acf = pd.concat([sla_coef_acf, nuts_coef_acf])\n",
    "prec_acf = pd.concat([sla_prec_acf, nuts_prec_acf])\n",
    "nuisance_acf = pd.concat([sla_nuisance_acf, nuts_nuisance_acf])\n",
    "coef_ess = pd.concat([sla_coef_ess, nuts_coef_ess])\n",
    "prec_ess = pd.concat([sla_prec_ess, nuts_prec_ess])\n",
    "nuisance_ess = pd.concat([sla_nuisance_ess, nuts_nuisance_ess])"
   ]
  },
  {
   "cell_type": "code",
   "execution_count": 6,
   "metadata": {},
   "outputs": [
    {
     "data": {
      "image/png": "[encoded data removed]",
      "text/plain": [
       "<Figure size 586.667x200 with 2 Axes>"
      ]
     },
     "metadata": {},
     "output_type": "display_data"
    }
   ],
   "source": [
    "acf = pd.concat([coef_acf, prec_acf]).reset_index().set_index(['algo', 'level', 'node', 'covariate'])\n",
    "iat = acf.apply(lambda x: nfx.misc.plot.est_int_autocor(x.values), 1, False, 'expand').rename('iat')\n",
    "rank = iat.groupby(level='algo').rank(ascending=False)\n",
    "#acf = acf.loc[(acf.columns.astype(float) < 10) | (acf.columns.astype(float) % 10 == 0)].reset_index()\n",
    "acf = acf.loc[(rank < 20) | (rank % 20 == 0)].reset_index()\n",
    "acf['param_ix'] = acf.index\n",
    "acf_long = acf.melt(id_vars=['algo', 'level', 'node', 'covariate', 'param_ix'], var_name='iter_lag').dropna(subset=['value'])\n",
    "acf_long['time_lag'] = acf_long.iter_lag.astype(float) * np.where(acf_long['algo'] == 'SLA', sla_titer, nuts_titer)\n",
    "ess = pd.concat([coef_ess, prec_ess]).reset_index()\n",
    "ess['node'] = ess.node.fillna(0)\n",
    "ess = ess.replace('Stan/NUTS', 'NUTS')\n",
    "\n",
    "f, axes = plt.subplots(1, 2, figsize=(2 * (8/5 + 4/3), 2), gridspec_kw={'width_ratios': [8/5, 4/3]})\n",
    "g = sns.lineplot(data=acf_long, x='time_lag', y='value', hue='algo', style='param_ix', dashes=False, markers=False, legend=False, alpha=1/3, lw=1/3, ax=axes[0])\n",
    "g.set(xlabel='wall time [sec]', ylabel='ACF', xlim=(-1, 21))\n",
    "g = sns.boxplot(data=ess, y='algo', x='rate[sec]', order=['SLA', 'NUTS'], linewidth=1, fliersize=1, sym='o', orient='h', ax=axes[1])\n",
    "g.set(ylabel='$\\\\quad$', xlabel='ESS/sec', xscale='log')"
   ]
  }
 ],
 "metadata": {
  "kernelspec": {
   "display_name": "nfx-remote-yHMKO00r-py3.10",
   "language": "python",
   "name": "python3"
  },
  "language_info": {
   "codemirror_mode": {
    "name": "ipython",
    "version": 3
   },
   "file_extension": ".py",
   "mimetype": "text/x-python",
   "name": "python",
   "nbconvert_exporter": "python",
   "pygments_lexer": "ipython3",
   "version": "3.10.6 (main, Nov 14 2022, 16:10:14) [GCC 11.3.0]"
  },
  "metadata": {
   "interpreter": {
    "hash": "0414ad82ab456811b10c2eaad0962924c5698674072e97130a475dec6a2d3b36"
   }
  },
  "vscode": {
   "interpreter": {
    "hash": "c585f732d6910f9348f8a25c91e9e471637e01e97c0c6a2dd5bf9f78a69f12da"
   }
  }
 },
 "nbformat": 4,
 "nbformat_minor": 2
}
