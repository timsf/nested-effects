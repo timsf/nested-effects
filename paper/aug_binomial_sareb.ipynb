{
 "cells": [
  {
   "cell_type": "code",
   "execution_count": 1,
   "metadata": {},
   "outputs": [],
   "source": [
    "# dependencies\n",
    "\n",
    "import datetime\n",
    "\n",
    "import numpy as np\n",
    "import pandas as pd\n",
    "import matplotlib.pyplot as plt\n",
    "import seaborn as sns\n",
    "\n",
    "import nfx.custom.binomial\n",
    "import nfx.misc.plot\n",
    "\n",
    "sns.set()"
   ]
  },
  {
   "cell_type": "code",
   "execution_count": 6,
   "metadata": {},
   "outputs": [],
   "source": [
    "# helper functions\n",
    "\n",
    "def package_samples(samples, node_names, covariate_names, meta):\n",
    "\n",
    "    coef_samples, prec_samples = zip(*samples)\n",
    "    coef_samples = [np.array(coef_samples_) for coef_samples_ in zip(*coef_samples)][::-1]\n",
    "    prec_samples = np.trace(prec_samples, axis1=2, axis2=3).T[::-1]\n",
    "    return package_coef_samples(coef_samples, node_names, covariate_names, meta), package_prec_samples(prec_samples, meta)\n",
    "\n",
    "def package_coef_samples(coef_samples, node_names, covariate_names, meta):\n",
    "\n",
    "    dfs = []\n",
    "    for i, (coef_samples_, node_names_) in enumerate(zip(coef_samples, node_names)):\n",
    "        for j, node_names__ in enumerate(node_names_):\n",
    "            df_ = pd.DataFrame(coef_samples_[:, j].T, index=covariate_names)\n",
    "            df_.index = df_.index.rename('covariate')\n",
    "            df_.columns = df_.columns.rename('iter')\n",
    "            for k, v in meta.items():\n",
    "                df_[k] = v\n",
    "            df_['level'] = i\n",
    "            df_['node'] = node_names__.zfill(i + 1)\n",
    "            dfs.append(df_)\n",
    "    df = pd.concat(dfs).reset_index().set_index(['level', 'node', 'covariate'] + list(meta.keys()))\n",
    "    return df\n",
    "\n",
    "def package_prec_samples(prec_samples, meta):\n",
    "\n",
    "    df = pd.DataFrame(prec_samples, index=np.arange(len(prec_samples)))\n",
    "    df.index = df.index.rename('level')\n",
    "    df.columns = df.columns.rename('iter')\n",
    "    for k, v in meta.items():\n",
    "        df[k] = v\n",
    "    df = df.reset_index().set_index(['level'] + list(meta.keys()))\n",
    "    return df\n",
    "\n",
    "def est_acf(samples, n_lags):\n",
    "\n",
    "    acf = samples.apply(lambda x: nfx.misc.plot.est_acf(x.values, n_lags), 1, False, 'expand')\n",
    "    acf.columns = acf.columns.rename('lag')\n",
    "    return acf\n",
    "\n",
    "def est_ess(acfs, titer):\n",
    "    \n",
    "    df = pd.DataFrame(index=acfs.index)\n",
    "    df['iat[iter]'] = acfs.apply(lambda x: nfx.misc.plot.est_int_autocor(x.values), 1, False, 'expand').rename('iat')\n",
    "    df['iat[sec]'] = df['iat[iter]'] * titer\n",
    "    df['rate[iter]'] = 1 / (2 * df['iat[iter]'])\n",
    "    df['rate[sec]'] = df['rate[iter]'] / titer\n",
    "    return df"
   ]
  },
  {
   "cell_type": "code",
   "execution_count": 7,
   "metadata": {},
   "outputs": [],
   "source": [
    "# config\n",
    "\n",
    "covariate_names = ['housing']\n",
    "seed = 0"
   ]
  },
  {
   "cell_type": "code",
   "execution_count": 8,
   "metadata": {},
   "outputs": [],
   "source": [
    "# load data\n",
    "\n",
    "macro = pd.read_csv('paper/data/sareb_covariates.csv').set_index('time')\n",
    "prices = pd.read_csv('paper/data/sareb_prices_synthetic.csv').set_index('zip')\n",
    "rng = np.random.default_rng(seed)"
   ]
  },
  {
   "cell_type": "code",
   "execution_count": 9,
   "metadata": {},
   "outputs": [],
   "source": [
    "# format response\n",
    "\n",
    "response = prices.diff(axis=1).dropna(axis=1) > 0"
   ]
  },
  {
   "cell_type": "code",
   "execution_count": 10,
   "metadata": {},
   "outputs": [],
   "source": [
    "# format covariates\n",
    "\n",
    "covariates = macro.loc[:, covariate_names]\n",
    "covariates['_constant'] = 1\n",
    "covariates['_trend'] = np.arange(covariates.shape[0])\n",
    "covariates = covariates.loc[:, ['_trend', 'housing']].diff().dropna().loc[response.columns]"
   ]
  },
  {
   "cell_type": "code",
   "execution_count": 11,
   "metadata": {},
   "outputs": [
    {
     "name": "stderr",
     "output_type": "stream",
     "text": [
      "/tmp/ipykernel_293637/2691591494.py:8: FutureWarning: In a future version of pandas all arguments of DataFrame.drop except for the argument 'labels' will be keyword-only.\n",
      "  indices = indices.drop('zip', 1)\n"
     ]
    }
   ],
   "source": [
    "# construct tree\n",
    "\n",
    "indices = response.index.to_frame()\n",
    "indices['lvl_1'] = indices.zip.str.slice(0, 2)\n",
    "indices['lvl_2'] = indices.zip.str.slice(0, 3)\n",
    "indices['lvl_3'] = indices.zip.str.slice(0, 4)\n",
    "indices['lvl_4'] = indices.zip.str.slice(0, 5)\n",
    "indices = indices.drop('zip', 1)\n",
    "codes = indices.apply(lambda x: x.astype('category').cat.codes).astype('int64')\n",
    "n_nodes = codes.max(0) + 1\n",
    "parent_node_3 = codes[['lvl_4', 'lvl_3']].drop_duplicates().lvl_3\n",
    "parent_node_2 = codes[['lvl_3', 'lvl_2']].drop_duplicates().lvl_2\n",
    "parent_node_1 = codes[['lvl_2', 'lvl_1']].drop_duplicates().lvl_1\n",
    "tree = [parent_node_3, parent_node_2, parent_node_1]\n",
    "node_names = [['0'], indices.lvl_1.unique(), indices.lvl_2.unique(), indices.lvl_3.unique(), indices.lvl_4.unique()]"
   ]
  },
  {
   "cell_type": "code",
   "execution_count": 12,
   "metadata": {},
   "outputs": [],
   "source": [
    "# sample sla\n",
    "\n",
    "n_samples = 10000\n",
    "sampler = nfx.custom.binomial.sample_posterior(response.values, np.ones_like(response.values), covariates.values, tree, ome=rng)\n",
    "samples = [next(sampler)[:2] for _ in  range(10 + n_samples)][10:]"
   ]
  },
  {
   "cell_type": "code",
   "execution_count": 13,
   "metadata": {},
   "outputs": [],
   "source": [
    "# compute sla summaries\n",
    "\n",
    "coef_samples, prec_samples = package_samples(samples, node_names, ['_trend'] + covariate_names, {'algo_name': 'SLA'})\n",
    "coef_acf, prec_acf = (est_acf(samples_, 256) for samples_ in (coef_samples, prec_samples))\n",
    "coef_ess, prec_ess = (est_ess(acfs_, 1) for acfs_ in (coef_acf, prec_acf))"
   ]
  },
  {
   "cell_type": "code",
   "execution_count": 37,
   "metadata": {},
   "outputs": [
    {
     "data": {
      "image/png": "[encoded data removed]",
      "text/plain": [
       "<Figure size 320x200 with 1 Axes>"
      ]
     },
     "metadata": {},
     "output_type": "display_data"
    }
   ],
   "source": [
    "acf = pd.concat([coef_acf, prec_acf]).reset_index().set_index(['algo_name', 'level', 'node', 'covariate'])\n",
    "iat = acf.apply(lambda x: nfx.misc.plot.est_int_autocor(x.values), 1, False, 'expand').rename('iat')\n",
    "rank = iat.rank(ascending=False)\n",
    "#acf = acf.loc[(acf.columns.astype(float) < 10) | (acf.columns.astype(float) % 10 == 0)].reset_index()\n",
    "acf = acf.loc[(rank < 20) | (rank % 20 == 0)].reset_index()\n",
    "acf['param_ix'] = acf.index\n",
    "acf_long = acf.melt(id_vars=['algo_name', 'level', 'node', 'covariate', 'param_ix'], var_name='lag').dropna(subset=['value'])\n",
    "acf_long['type'] = acf_long.node.isna()\n",
    "\n",
    "g = sns.relplot(data=acf_long, x='lag', y='value', kind='line', style='param_ix', legend=False, height=2, aspect=8/5, alpha=1/3, lw=1/3)\n",
    "g.set(xlabel='lag', ylabel='ACF', xlim=(-.5, 10.5))\n",
    "g.set_titles(col_template='{col_name}')"
   ]
  }
 ],
 "metadata": {
  "kernelspec": {
   "display_name": "Python 3.10.6 ('nfx-remote-yHMKO00r-py3.10')",
   "language": "python",
   "name": "python3"
  },
  "language_info": {
   "codemirror_mode": {
    "name": "ipython",
    "version": 3
   },
   "file_extension": ".py",
   "mimetype": "text/x-python",
   "name": "python",
   "nbconvert_exporter": "python",
   "pygments_lexer": "ipython3",
   "version": "3.10.6 (main, Nov 14 2022, 16:10:14) [GCC 11.3.0]"
  },
  "metadata": {
   "interpreter": {
    "hash": "0414ad82ab456811b10c2eaad0962924c5698674072e97130a475dec6a2d3b36"
   }
  },
  "vscode": {
   "interpreter": {
    "hash": "c585f732d6910f9348f8a25c91e9e471637e01e97c0c6a2dd5bf9f78a69f12da"
   }
  }
 },
 "nbformat": 4,
 "nbformat_minor": 2
}
